{
 "cells": [
  {
   "cell_type": "markdown",
   "metadata": {},
   "source": [
    "# PART3 パラメータをチューニングしてみよう"
   ]
  },
  {
   "cell_type": "markdown",
   "metadata": {},
   "source": [
    "## おまじない"
   ]
  },
  {
   "cell_type": "code",
   "execution_count": 37,
   "metadata": {
    "collapsed": false
   },
   "outputs": [],
   "source": [
    "import pandas as pd\n",
    "import numpy as np\n",
    "from matplotlib import pyplot as plt\n",
    "%matplotlib inline\n",
    "\n",
    "from sklearn.tree import DecisionTreeClassifier as DT\n",
    "from sklearn.model_selection import cross_validate\n",
    "from sklearn.model_selection import GridSearchCV"
   ]
  },
  {
   "cell_type": "markdown",
   "metadata": {},
   "source": [
    "## データの読み込み\n",
    "- train.csvとtest.csvとsubmit_sample.csvの３つのファイルを読み込みましょう\n",
    "- それぞれを読み込んだものは変数はtrain, test, sampleに代入しましょう"
   ]
  },
  {
   "cell_type": "code",
   "execution_count": 38,
   "metadata": {
    "collapsed": true
   },
   "outputs": [],
   "source": [
    "train = pd.read_csv(\"/root/Case2/train.csv\")\n",
    "test = pd.read_csv(\"/root/Case2/test.csv\")\n",
    "sample = pd.read_csv(\"/root/Case2/submit_sample.csv\",header=None)"
   ]
  },
  {
   "cell_type": "markdown",
   "metadata": {},
   "source": [
    "## trainから説明変数となるデータを取り出しましょう\n",
    "- iloc[]を使います\n",
    "- y以外を説明変数として取り出し、変数trainXに代入しましょう"
   ]
  },
  {
   "cell_type": "code",
   "execution_count": 39,
   "metadata": {
    "collapsed": true
   },
   "outputs": [],
   "source": [
    "trainX = train.iloc[:,0:17]"
   ]
  },
  {
   "cell_type": "code",
   "execution_count": 40,
   "metadata": {
    "collapsed": false
   },
   "outputs": [
    {
     "data": {
      "text/html": [
       "<div>\n",
       "<table border=\"1\" class=\"dataframe\">\n",
       "  <thead>\n",
       "    <tr style=\"text-align: right;\">\n",
       "      <th></th>\n",
       "      <th>id</th>\n",
       "      <th>age</th>\n",
       "      <th>job</th>\n",
       "      <th>marital</th>\n",
       "      <th>education</th>\n",
       "      <th>default</th>\n",
       "      <th>balance</th>\n",
       "      <th>housing</th>\n",
       "      <th>loan</th>\n",
       "      <th>contact</th>\n",
       "      <th>day</th>\n",
       "      <th>month</th>\n",
       "      <th>duration</th>\n",
       "      <th>campaign</th>\n",
       "      <th>pdays</th>\n",
       "      <th>previous</th>\n",
       "      <th>poutcome</th>\n",
       "    </tr>\n",
       "  </thead>\n",
       "  <tbody>\n",
       "    <tr>\n",
       "      <th>0</th>\n",
       "      <td>1</td>\n",
       "      <td>39</td>\n",
       "      <td>blue-collar</td>\n",
       "      <td>married</td>\n",
       "      <td>secondary</td>\n",
       "      <td>no</td>\n",
       "      <td>1756</td>\n",
       "      <td>yes</td>\n",
       "      <td>no</td>\n",
       "      <td>cellular</td>\n",
       "      <td>3</td>\n",
       "      <td>apr</td>\n",
       "      <td>939</td>\n",
       "      <td>1</td>\n",
       "      <td>-1</td>\n",
       "      <td>0</td>\n",
       "      <td>unknown</td>\n",
       "    </tr>\n",
       "    <tr>\n",
       "      <th>1</th>\n",
       "      <td>2</td>\n",
       "      <td>51</td>\n",
       "      <td>entrepreneur</td>\n",
       "      <td>married</td>\n",
       "      <td>primary</td>\n",
       "      <td>no</td>\n",
       "      <td>1443</td>\n",
       "      <td>no</td>\n",
       "      <td>no</td>\n",
       "      <td>cellular</td>\n",
       "      <td>18</td>\n",
       "      <td>feb</td>\n",
       "      <td>172</td>\n",
       "      <td>10</td>\n",
       "      <td>-1</td>\n",
       "      <td>0</td>\n",
       "      <td>unknown</td>\n",
       "    </tr>\n",
       "    <tr>\n",
       "      <th>2</th>\n",
       "      <td>3</td>\n",
       "      <td>36</td>\n",
       "      <td>management</td>\n",
       "      <td>single</td>\n",
       "      <td>tertiary</td>\n",
       "      <td>no</td>\n",
       "      <td>436</td>\n",
       "      <td>no</td>\n",
       "      <td>no</td>\n",
       "      <td>cellular</td>\n",
       "      <td>13</td>\n",
       "      <td>apr</td>\n",
       "      <td>567</td>\n",
       "      <td>1</td>\n",
       "      <td>595</td>\n",
       "      <td>2</td>\n",
       "      <td>failure</td>\n",
       "    </tr>\n",
       "    <tr>\n",
       "      <th>3</th>\n",
       "      <td>4</td>\n",
       "      <td>63</td>\n",
       "      <td>retired</td>\n",
       "      <td>married</td>\n",
       "      <td>secondary</td>\n",
       "      <td>no</td>\n",
       "      <td>474</td>\n",
       "      <td>no</td>\n",
       "      <td>no</td>\n",
       "      <td>cellular</td>\n",
       "      <td>25</td>\n",
       "      <td>jan</td>\n",
       "      <td>423</td>\n",
       "      <td>1</td>\n",
       "      <td>-1</td>\n",
       "      <td>0</td>\n",
       "      <td>unknown</td>\n",
       "    </tr>\n",
       "    <tr>\n",
       "      <th>4</th>\n",
       "      <td>5</td>\n",
       "      <td>31</td>\n",
       "      <td>management</td>\n",
       "      <td>single</td>\n",
       "      <td>tertiary</td>\n",
       "      <td>no</td>\n",
       "      <td>354</td>\n",
       "      <td>no</td>\n",
       "      <td>no</td>\n",
       "      <td>cellular</td>\n",
       "      <td>30</td>\n",
       "      <td>apr</td>\n",
       "      <td>502</td>\n",
       "      <td>1</td>\n",
       "      <td>9</td>\n",
       "      <td>2</td>\n",
       "      <td>success</td>\n",
       "    </tr>\n",
       "  </tbody>\n",
       "</table>\n",
       "</div>"
      ],
      "text/plain": [
       "   id  age           job  marital  education default  balance housing loan  \\\n",
       "0   1   39   blue-collar  married  secondary      no     1756     yes   no   \n",
       "1   2   51  entrepreneur  married    primary      no     1443      no   no   \n",
       "2   3   36    management   single   tertiary      no      436      no   no   \n",
       "3   4   63       retired  married  secondary      no      474      no   no   \n",
       "4   5   31    management   single   tertiary      no      354      no   no   \n",
       "\n",
       "    contact  day month  duration  campaign  pdays  previous poutcome  \n",
       "0  cellular    3   apr       939         1     -1         0  unknown  \n",
       "1  cellular   18   feb       172        10     -1         0  unknown  \n",
       "2  cellular   13   apr       567         1    595         2  failure  \n",
       "3  cellular   25   jan       423         1     -1         0  unknown  \n",
       "4  cellular   30   apr       502         1      9         2  success  "
      ]
     },
     "execution_count": 40,
     "metadata": {},
     "output_type": "execute_result"
    }
   ],
   "source": [
    "trainX.head()"
   ]
  },
  {
   "cell_type": "markdown",
   "metadata": {},
   "source": [
    "## trainから目的変数となるデータを取り出しましょう\n",
    "- yを選択し、変数yに代入しましょう"
   ]
  },
  {
   "cell_type": "code",
   "execution_count": 41,
   "metadata": {
    "collapsed": false
   },
   "outputs": [],
   "source": [
    "y = train[\"y\"]"
   ]
  },
  {
   "cell_type": "markdown",
   "metadata": {},
   "source": [
    "## testから説明変数となるデータを取り出しましょう\n",
    "- testの全てのカラムが説明変数となりますので、copy関数を使って変数testXに代入します"
   ]
  },
  {
   "cell_type": "code",
   "execution_count": 42,
   "metadata": {
    "collapsed": true
   },
   "outputs": [],
   "source": [
    "testX = test.copy()"
   ]
  },
  {
   "cell_type": "markdown",
   "metadata": {},
   "source": [
    "## trainXとtestXをダミー変数化しましょう"
   ]
  },
  {
   "cell_type": "code",
   "execution_count": 43,
   "metadata": {
    "collapsed": true
   },
   "outputs": [],
   "source": [
    "trainX = pd.get_dummies(trainX)\n",
    "testX = pd.get_dummies(testX)"
   ]
  },
  {
   "cell_type": "markdown",
   "metadata": {},
   "source": [
    "## 決定木モデルの箱を用意しましょう\n",
    "- 変数名をclf1とし、DT()を代入しましょう\n",
    "- パラメータは一旦、max_depth=2, min_samples_leaf=500としましょう"
   ]
  },
  {
   "cell_type": "code",
   "execution_count": 44,
   "metadata": {
    "collapsed": true
   },
   "outputs": [],
   "source": [
    "clf1 = DT(max_depth=2,min_samples_leaf=500)"
   ]
  },
  {
   "cell_type": "markdown",
   "metadata": {},
   "source": [
    "## クロスバリデーションをしてclf1の精度を確かめてみましょう\n",
    "- cross_validate関数を使います\n",
    "- オプションには、clf1, trainX, y, cv=5, scoring=\"roc_auc\",n_jobs=-1と書きます"
   ]
  },
  {
   "cell_type": "code",
   "execution_count": 46,
   "metadata": {
    "collapsed": false
   },
   "outputs": [
    {
     "data": {
      "text/plain": [
       "{'fit_time': array([ 0.05200791,  0.05194688,  0.0520041 ,  0.05193639,  0.05356407]),\n",
       " 'score_time': array([ 0.00389266,  0.00390863,  0.00393128,  0.00391173,  0.0039432 ]),\n",
       " 'test_score': array([ 0.74657601,  0.76182968,  0.73117591,  0.73708019,  0.75909278]),\n",
       " 'train_score': array([ 0.74534692,  0.74543889,  0.75305367,  0.75162308,  0.74613685])}"
      ]
     },
     "execution_count": 46,
     "metadata": {},
     "output_type": "execute_result"
    }
   ],
   "source": [
    "cross_validate(clf1,trainX,y,cv=5,scoring=\"roc_auc\",n_jobs=-1,return_train_score=True)"
   ]
  },
  {
   "cell_type": "markdown",
   "metadata": {},
   "source": [
    "## 異なるパラメータでもう一度決定木の箱を準備しましょう\n",
    "- 変数はclf2としましょう\n",
    "- パラメータはmax_depth=10, min_samples_leaf=500としましょう"
   ]
  },
  {
   "cell_type": "code",
   "execution_count": 9,
   "metadata": {
    "collapsed": true
   },
   "outputs": [],
   "source": [
    "clf2 = DT(max_depth=10,min_samples_leaf=500)"
   ]
  },
  {
   "cell_type": "markdown",
   "metadata": {},
   "source": [
    "## クロスバリデーションをしてclf2の精度を確かめてみましょう"
   ]
  },
  {
   "cell_type": "code",
   "execution_count": 47,
   "metadata": {
    "collapsed": false
   },
   "outputs": [
    {
     "data": {
      "text/plain": [
       "{'fit_time': array([ 0.11585236,  0.11294746,  0.11451244,  0.11415172,  0.1122756 ]),\n",
       " 'score_time': array([ 0.00445342,  0.00457883,  0.00448585,  0.00454593,  0.00456643]),\n",
       " 'test_score': array([ 0.88264002,  0.88482571,  0.86778474,  0.89240308,  0.88344359]),\n",
       " 'train_score': array([ 0.88842017,  0.89038512,  0.89288003,  0.88763037,  0.88561317])}"
      ]
     },
     "execution_count": 47,
     "metadata": {},
     "output_type": "execute_result"
    }
   ],
   "source": [
    "cross_validate(clf2,trainX,y,cv=5,scoring=\"roc_auc\",n_jobs=-1,return_train_score=True)"
   ]
  },
  {
   "cell_type": "markdown",
   "metadata": {},
   "source": [
    "## 新たな決定木モデルの箱を準備しましょう\n",
    "- 変数clf3とし、今回は特にパラメータはセットしません"
   ]
  },
  {
   "cell_type": "code",
   "execution_count": 48,
   "metadata": {
    "collapsed": true
   },
   "outputs": [],
   "source": [
    "clf3 = DT()"
   ]
  },
  {
   "cell_type": "markdown",
   "metadata": {},
   "source": [
    "## グリッドサーチを試してみましょう\n",
    "- パラメータの範囲を指定し、その範囲をしらみつぶしに調べることで、最適なパラメータを探索することをグリッドサーチといいます\n",
    "- グリッドサーチ＋クロスバリデーションの組み合わせは良くパラメータ探索の方法として利用されます\n",
    "- まず探索するパラメータの範囲を表す変数parametersを作ります\n",
    "- この変数を作る時、\"カギ\"括弧ではなく、\"波\"括弧であることに注意して下さい\n",
    "- {\"パラメータの名前①\":[範囲], \"パラメータの名前②\":[範囲]...}のように書きます\n",
    "- 今回はmax_depthを2から10まで探索してみます"
   ]
  },
  {
   "cell_type": "code",
   "execution_count": 49,
   "metadata": {
    "collapsed": true
   },
   "outputs": [],
   "source": [
    "parameters = {\"max_depth\":[2,3,4,5,6,7,8,9,10]}"
   ]
  },
  {
   "cell_type": "code",
   "execution_count": 50,
   "metadata": {
    "collapsed": true
   },
   "outputs": [],
   "source": [
    "parameters = {\"max_depth\":list(range(2,11))}"
   ]
  },
  {
   "cell_type": "code",
   "execution_count": 51,
   "metadata": {
    "collapsed": false
   },
   "outputs": [
    {
     "data": {
      "text/plain": [
       "{'max_depth': [2, 3, 4, 5, 6, 7, 8, 9, 10]}"
      ]
     },
     "execution_count": 51,
     "metadata": {},
     "output_type": "execute_result"
    }
   ],
   "source": [
    "parameters"
   ]
  },
  {
   "cell_type": "markdown",
   "metadata": {},
   "source": [
    "## グリッドサーチ+クロスバリデーションで最適なパラメータを探してみましょう"
   ]
  },
  {
   "cell_type": "markdown",
   "metadata": {},
   "source": [
    "- GridSearchCV関数を使います\n",
    "- オプションとして、clf3, parameters, cv=5, scoring=\"roc_auc\",n_jobs=-1と書きます\n",
    "- グリッドサーチの結果は、変数gcvに代入しましょう\n",
    "- その後、fit関数を使って、探索をしましょう"
   ]
  },
  {
   "cell_type": "code",
   "execution_count": 52,
   "metadata": {
    "collapsed": false
   },
   "outputs": [
    {
     "data": {
      "text/plain": [
       "GridSearchCV(cv=5, error_score='raise-deprecating',\n",
       "       estimator=DecisionTreeClassifier(class_weight=None, criterion='gini', max_depth=None,\n",
       "            max_features=None, max_leaf_nodes=None,\n",
       "            min_impurity_decrease=0.0, min_impurity_split=None,\n",
       "            min_samples_leaf=1, min_samples_split=2,\n",
       "            min_weight_fraction_leaf=0.0, presort=False, random_state=None,\n",
       "            splitter='best'),\n",
       "       fit_params=None, iid='warn', n_jobs=-1,\n",
       "       param_grid={'max_depth': [2, 3, 4, 5, 6, 7, 8, 9, 10]},\n",
       "       pre_dispatch='2*n_jobs', refit=True, return_train_score='warn',\n",
       "       scoring='roc_auc', verbose=0)"
      ]
     },
     "execution_count": 52,
     "metadata": {},
     "output_type": "execute_result"
    }
   ],
   "source": [
    "gcv = GridSearchCV(clf3,parameters,cv=5,scoring=\"roc_auc\",n_jobs=-1)\n",
    "gcv.fit(trainX,y)"
   ]
  },
  {
   "cell_type": "markdown",
   "metadata": {},
   "source": [
    "## グリッドサーチの結果を見てみましょう\n",
    "- cv_____results_で結果を見る事が出来ます"
   ]
  },
  {
   "cell_type": "code",
   "execution_count": 53,
   "metadata": {
    "collapsed": false
   },
   "outputs": [
    {
     "name": "stderr",
     "output_type": "stream",
     "text": [
      "/root/jupyter/lib/python3.6/site-packages/sklearn/utils/deprecation.py:125: FutureWarning: You are accessing a training score ('mean_train_score'), which will not be available by default any more in 0.21. If you need training scores, please set return_train_score=True\n",
      "  warnings.warn(*warn_args, **warn_kwargs)\n",
      "/root/jupyter/lib/python3.6/site-packages/sklearn/utils/deprecation.py:125: FutureWarning: You are accessing a training score ('split0_train_score'), which will not be available by default any more in 0.21. If you need training scores, please set return_train_score=True\n",
      "  warnings.warn(*warn_args, **warn_kwargs)\n",
      "/root/jupyter/lib/python3.6/site-packages/sklearn/utils/deprecation.py:125: FutureWarning: You are accessing a training score ('split1_train_score'), which will not be available by default any more in 0.21. If you need training scores, please set return_train_score=True\n",
      "  warnings.warn(*warn_args, **warn_kwargs)\n",
      "/root/jupyter/lib/python3.6/site-packages/sklearn/utils/deprecation.py:125: FutureWarning: You are accessing a training score ('split2_train_score'), which will not be available by default any more in 0.21. If you need training scores, please set return_train_score=True\n",
      "  warnings.warn(*warn_args, **warn_kwargs)\n",
      "/root/jupyter/lib/python3.6/site-packages/sklearn/utils/deprecation.py:125: FutureWarning: You are accessing a training score ('split3_train_score'), which will not be available by default any more in 0.21. If you need training scores, please set return_train_score=True\n",
      "  warnings.warn(*warn_args, **warn_kwargs)\n",
      "/root/jupyter/lib/python3.6/site-packages/sklearn/utils/deprecation.py:125: FutureWarning: You are accessing a training score ('split4_train_score'), which will not be available by default any more in 0.21. If you need training scores, please set return_train_score=True\n",
      "  warnings.warn(*warn_args, **warn_kwargs)\n",
      "/root/jupyter/lib/python3.6/site-packages/sklearn/utils/deprecation.py:125: FutureWarning: You are accessing a training score ('std_train_score'), which will not be available by default any more in 0.21. If you need training scores, please set return_train_score=True\n",
      "  warnings.warn(*warn_args, **warn_kwargs)\n"
     ]
    },
    {
     "data": {
      "text/plain": [
       "{'mean_fit_time': array([ 0.05356894,  0.06770754,  0.08248587,  0.09597769,  0.11068678,\n",
       "         0.12561579,  0.14073997,  0.15477829,  0.16817169]),\n",
       " 'mean_score_time': array([ 0.0040503 ,  0.00414271,  0.00419087,  0.00423493,  0.00428801,\n",
       "         0.00438976,  0.00441647,  0.00451674,  0.00452456]),\n",
       " 'mean_test_score': array([ 0.74715003,  0.80746041,  0.81410356,  0.82266463,  0.82743288,\n",
       "         0.82586438,  0.80687927,  0.80335007,  0.77493825]),\n",
       " 'mean_train_score': array([ 0.74831988,  0.81244475,  0.84413657,  0.85725938,  0.86924089,\n",
       "         0.88595242,  0.89890765,  0.91023371,  0.92423525]),\n",
       " 'param_max_depth': masked_array(data = [2 3 4 5 6 7 8 9 10],\n",
       "              mask = [False False False False False False False False False],\n",
       "        fill_value = ?),\n",
       " 'params': [{'max_depth': 2},\n",
       "  {'max_depth': 3},\n",
       "  {'max_depth': 4},\n",
       "  {'max_depth': 5},\n",
       "  {'max_depth': 6},\n",
       "  {'max_depth': 7},\n",
       "  {'max_depth': 8},\n",
       "  {'max_depth': 9},\n",
       "  {'max_depth': 10}],\n",
       " 'rank_test_score': array([9, 5, 4, 3, 1, 2, 6, 7, 8], dtype=int32),\n",
       " 'split0_test_score': array([ 0.74657601,  0.82360265,  0.73033016,  0.74058989,  0.74368476,\n",
       "         0.73098477,  0.73295007,  0.71354837,  0.69354728]),\n",
       " 'split0_train_score': array([ 0.74534692,  0.82168836,  0.84726425,  0.85815618,  0.86983919,\n",
       "         0.88432329,  0.90048061,  0.91372037,  0.92627655]),\n",
       " 'split1_test_score': array([ 0.76182968,  0.82214585,  0.843183  ,  0.85330188,  0.85808562,\n",
       "         0.86029103,  0.85803417,  0.84886442,  0.84124367]),\n",
       " 'split1_train_score': array([ 0.74543889,  0.82283293,  0.84962306,  0.86363422,  0.8742587 ,\n",
       "         0.8843406 ,  0.89732707,  0.90808259,  0.92258167]),\n",
       " 'split2_test_score': array([ 0.73117591,  0.8075016 ,  0.83351987,  0.84179917,  0.84359207,\n",
       "         0.84144615,  0.82770335,  0.82534641,  0.80645518]),\n",
       " 'split2_train_score': array([ 0.75305367,  0.82675277,  0.85308818,  0.86694448,  0.87724756,\n",
       "         0.89234865,  0.90362505,  0.91422397,  0.92640883]),\n",
       " 'split3_test_score': array([ 0.73708019,  0.75197343,  0.80554008,  0.81561096,  0.82968558,\n",
       "         0.85033815,  0.85186118,  0.83711404,  0.81461122]),\n",
       " 'split3_train_score': array([ 0.75162308,  0.77022604,  0.8237681 ,  0.83736182,  0.85413452,\n",
       "         0.8843957 ,  0.89786704,  0.90767212,  0.92119267]),\n",
       " 'split4_test_score': array([ 0.75909278,  0.83208758,  0.85796085,  0.86203579,  0.86212914,\n",
       "         0.84626934,  0.76383172,  0.79187286,  0.71881318]),\n",
       " 'split4_train_score': array([ 0.74613685,  0.82072363,  0.84693925,  0.8602002 ,  0.87072447,\n",
       "         0.88435383,  0.89523846,  0.90746949,  0.92471656]),\n",
       " 'std_fit_time': array([ 0.0002793 ,  0.00030293,  0.0003286 ,  0.00075821,  0.00030407,\n",
       "         0.00082994,  0.0003657 ,  0.00030886,  0.00072419]),\n",
       " 'std_score_time': array([  6.72105992e-05,   6.55765350e-05,   4.24819895e-05,\n",
       "          8.52127614e-05,   1.01230563e-04,   1.22284515e-04,\n",
       "          5.19557794e-05,   1.01550598e-04,   6.80370935e-05]),\n",
       " 'std_test_score': array([ 0.01195847,  0.02885003,  0.04524916,  0.04391131,  0.04341339,\n",
       "         0.04784589,  0.04978491,  0.04876946,  0.05785889]),\n",
       " 'std_train_score': array([ 0.00332337,  0.02120866,  0.01041868,  0.01039043,  0.00800058,\n",
       "         0.00319821,  0.0028904 ,  0.00306297,  0.00205498])}"
      ]
     },
     "execution_count": 53,
     "metadata": {},
     "output_type": "execute_result"
    }
   ],
   "source": [
    "gcv.cv_results_"
   ]
  },
  {
   "cell_type": "markdown",
   "metadata": {},
   "source": [
    "## cv_____results_の中で重要な２つをみてみましょう\n",
    "- cv_____results_[\"mean_train_score\"]とcv_____results_[\"mean_test_score\"]です\n",
    "- それぞれ変数train_scoreとtest_scoreに代入しましょう"
   ]
  },
  {
   "cell_type": "code",
   "execution_count": 54,
   "metadata": {
    "collapsed": false
   },
   "outputs": [
    {
     "name": "stderr",
     "output_type": "stream",
     "text": [
      "/root/jupyter/lib/python3.6/site-packages/sklearn/utils/deprecation.py:125: FutureWarning: You are accessing a training score ('mean_train_score'), which will not be available by default any more in 0.21. If you need training scores, please set return_train_score=True\n",
      "  warnings.warn(*warn_args, **warn_kwargs)\n"
     ]
    }
   ],
   "source": [
    "train_score = gcv.cv_results_[\"mean_train_score\"]\n",
    "test_score = gcv.cv_results_[\"mean_test_score\"]"
   ]
  },
  {
   "cell_type": "code",
   "execution_count": 55,
   "metadata": {
    "collapsed": false
   },
   "outputs": [
    {
     "data": {
      "text/plain": [
       "array([ 0.74831988,  0.81244475,  0.84413657,  0.85725938,  0.86924089,\n",
       "        0.88595242,  0.89890765,  0.91023371,  0.92423525])"
      ]
     },
     "execution_count": 55,
     "metadata": {},
     "output_type": "execute_result"
    }
   ],
   "source": [
    "train_score"
   ]
  },
  {
   "cell_type": "markdown",
   "metadata": {},
   "source": [
    "## train_scoreとtest_scoreを可視化しましょう\n",
    "- x軸をmax_depth、y軸をaucとしてグラフを描きます\n",
    "- 何も設定しないとx軸は0からスタートとなり、実際の値とずれてしまうので、調整が必要です\n",
    "- 調整をする為には、plt.xticks([0,1],[2,3])のように書きます\n",
    "- 上記のオプションの意味は何もしない時に0のものを2とし、1のものを3とする、という意味になります\n",
    "- 今回はmax_depthを2～10まで調べたので9点あります"
   ]
  },
  {
   "cell_type": "code",
   "execution_count": 73,
   "metadata": {
    "collapsed": false
   },
   "outputs": [
    {
     "data": {
      "text/plain": [
       "([<matplotlib.axis.XTick at 0x7efdfa375dd8>,\n",
       "  <matplotlib.axis.XTick at 0x7efdfa375710>,\n",
       "  <matplotlib.axis.XTick at 0x7efdfa375470>,\n",
       "  <matplotlib.axis.XTick at 0x7efdfa2b1748>,\n",
       "  <matplotlib.axis.XTick at 0x7efdfa2b1c18>,\n",
       "  <matplotlib.axis.XTick at 0x7efdfa2bc160>,\n",
       "  <matplotlib.axis.XTick at 0x7efdfa2bc5f8>,\n",
       "  <matplotlib.axis.XTick at 0x7efdfa2bcac8>,\n",
       "  <matplotlib.axis.XTick at 0x7efdfa2bce80>,\n",
       "  <matplotlib.axis.XTick at 0x7efdfa28e4a8>],\n",
       " <a list of 9 Text xticklabel objects>)"
      ]
     },
     "execution_count": 73,
     "metadata": {},
     "output_type": "execute_result"
    },
    {
     "data": {
      "image/png": "[encoded data removed]",
      "text/plain": [
       "<Figure size 432x288 with 1 Axes>"
      ]
     },
     "metadata": {},
     "output_type": "display_data"
    }
   ],
   "source": [
    "plt.plot(train_score)\n",
    "plt.plot(test_score)\n",
    "plt.xticks([0,1,2,3,4,5,6,7,8,9],[2,3,4,5,6,7,8,9,10])"
   ]
  },
  {
   "cell_type": "markdown",
   "metadata": {},
   "source": [
    "## グリッドサーチで選ばれたパラメータを確認しましょう\n",
    "- best_____params_で結果を見ることができます"
   ]
  },
  {
   "cell_type": "code",
   "execution_count": 57,
   "metadata": {
    "collapsed": false
   },
   "outputs": [
    {
     "data": {
      "text/plain": [
       "{'max_depth': 6}"
      ]
     },
     "execution_count": 57,
     "metadata": {},
     "output_type": "execute_result"
    }
   ],
   "source": [
    "gcv.best_params_"
   ]
  },
  {
   "cell_type": "markdown",
   "metadata": {},
   "source": [
    "## testの予測しましょう\n",
    "- gcvもpredict_proba関数を持っており、自動的に最適なパラメータを使ったモデルで予測がされます\n",
    "- 予測結果はpredに代入しましょう。その後、1の確率のみを取り出して、再びpredに代入しましょう"
   ]
  },
  {
   "cell_type": "code",
   "execution_count": 58,
   "metadata": {
    "collapsed": true
   },
   "outputs": [],
   "source": [
    "pred = gcv.predict_proba(testX)"
   ]
  },
  {
   "cell_type": "code",
   "execution_count": 59,
   "metadata": {
    "collapsed": false
   },
   "outputs": [
    {
     "data": {
      "text/plain": [
       "array([[ 0.3390411 ,  0.6609589 ],\n",
       "       [ 0.54751131,  0.45248869],\n",
       "       [ 0.98031963,  0.01968037],\n",
       "       ..., \n",
       "       [ 0.98031963,  0.01968037],\n",
       "       [ 0.98031963,  0.01968037],\n",
       "       [ 0.98031963,  0.01968037]])"
      ]
     },
     "execution_count": 59,
     "metadata": {},
     "output_type": "execute_result"
    }
   ],
   "source": [
    "pred"
   ]
  },
  {
   "cell_type": "code",
   "execution_count": 60,
   "metadata": {
    "collapsed": true
   },
   "outputs": [],
   "source": [
    "pred = pred[:,1]"
   ]
  },
  {
   "cell_type": "markdown",
   "metadata": {},
   "source": [
    "## predをsample[1]に代入してファイル出力し、DeepAnalyticsへ投稿しましょう\n",
    "- ファイル名は「submit3_bank.csv」としましょう\n",
    "- index=None,header=Noneのオプションを忘れないように書きだしましょう"
   ]
  },
  {
   "cell_type": "code",
   "execution_count": 34,
   "metadata": {
    "collapsed": true
   },
   "outputs": [],
   "source": [
    "sample[1] = pred"
   ]
  },
  {
   "cell_type": "code",
   "execution_count": 35,
   "metadata": {
    "collapsed": true
   },
   "outputs": [],
   "source": [
    "sample.to_csv(\"/root/Case2/submit3_bank.csv\",index=None,header=None)"
   ]
  },
  {
   "cell_type": "markdown",
   "metadata": {},
   "source": [
    "# 実習"
   ]
  },
  {
   "cell_type": "markdown",
   "metadata": {},
   "source": [
    "1.新たな決定木モデルの箱を変数clf4として準備してみよう。パラメータの設定は不要です"
   ]
  },
  {
   "cell_type": "code",
   "execution_count": 102,
   "metadata": {
    "collapsed": true
   },
   "outputs": [],
   "source": [
    "clf4 = DT()\n",
    "clf5 = DT()"
   ]
  },
  {
   "cell_type": "markdown",
   "metadata": {},
   "source": [
    "2.max_depthとmin_samples_leafの値の範囲を指定した変数parameters2を作ろう\n",
    "- max_depthは2～10まで、min_samples_leafは[5,10,20,50,100,500]にしましょう"
   ]
  },
  {
   "cell_type": "code",
   "execution_count": 103,
   "metadata": {
    "collapsed": false
   },
   "outputs": [],
   "source": [
    "parameter2 = { \"max_depth\" : list(range(2,11)), \"min_samples_leaf\" : [5,10,20,50,100,500] }"
   ]
  },
  {
   "cell_type": "code",
   "execution_count": 104,
   "metadata": {
    "collapsed": true
   },
   "outputs": [],
   "source": [
    "parameter3 = { \"max_depth\" : list(range(2,11)), \"min_samples_leaf\" : [450,500,550,600,650,700] }"
   ]
  },
  {
   "cell_type": "code",
   "execution_count": 105,
   "metadata": {
    "collapsed": false
   },
   "outputs": [
    {
     "data": {
      "text/plain": [
       "{'max_depth': [2, 3, 4, 5, 6, 7, 8, 9, 10],\n",
       " 'min_samples_leaf': [450, 500, 550, 600, 650, 700]}"
      ]
     },
     "execution_count": 105,
     "metadata": {},
     "output_type": "execute_result"
    }
   ],
   "source": [
    "parameter2\n",
    "parameter3"
   ]
  },
  {
   "cell_type": "markdown",
   "metadata": {},
   "source": [
    "3.グリッドサーチ+クロスバリデーションで最適なパラメータを探そう。グリッドサーチの結果は変数gcv2に代入しよう"
   ]
  },
  {
   "cell_type": "code",
   "execution_count": 106,
   "metadata": {
    "collapsed": true
   },
   "outputs": [],
   "source": [
    "gcv2 = GridSearchCV(clf4,parameter2,cv=5,scoring=\"roc_auc\",n_jobs=-1)"
   ]
  },
  {
   "cell_type": "code",
   "execution_count": 107,
   "metadata": {
    "collapsed": false
   },
   "outputs": [],
   "source": [
    "gcv3 = GridSearchCV(clf5,parameter3,cv=5,scoring=\"roc_auc\",n_jobs=-1)"
   ]
  },
  {
   "cell_type": "code",
   "execution_count": 110,
   "metadata": {
    "collapsed": false,
    "scrolled": true
   },
   "outputs": [
    {
     "data": {
      "text/plain": [
       "GridSearchCV(cv=5, error_score='raise-deprecating',\n",
       "       estimator=DecisionTreeClassifier(class_weight=None, criterion='gini', max_depth=None,\n",
       "            max_features=None, max_leaf_nodes=None,\n",
       "            min_impurity_decrease=0.0, min_impurity_split=None,\n",
       "            min_samples_leaf=1, min_samples_split=2,\n",
       "            min_weight_fraction_leaf=0.0, presort=False, random_state=None,\n",
       "            splitter='best'),\n",
       "       fit_params=None, iid='warn', n_jobs=-1,\n",
       "       param_grid={'max_depth': [2, 3, 4, 5, 6, 7, 8, 9, 10], 'min_samples_leaf': [5, 10, 20, 50, 100, 500]},\n",
       "       pre_dispatch='2*n_jobs', refit=True, return_train_score='warn',\n",
       "       scoring='roc_auc', verbose=0)"
      ]
     },
     "execution_count": 110,
     "metadata": {},
     "output_type": "execute_result"
    }
   ],
   "source": [
    "gcv2.fit(trainX,y)"
   ]
  },
  {
   "cell_type": "code",
   "execution_count": 111,
   "metadata": {
    "collapsed": false
   },
   "outputs": [
    {
     "data": {
      "text/plain": [
       "GridSearchCV(cv=5, error_score='raise-deprecating',\n",
       "       estimator=DecisionTreeClassifier(class_weight=None, criterion='gini', max_depth=None,\n",
       "            max_features=None, max_leaf_nodes=None,\n",
       "            min_impurity_decrease=0.0, min_impurity_split=None,\n",
       "            min_samples_leaf=1, min_samples_split=2,\n",
       "            min_weight_fraction_leaf=0.0, presort=False, random_state=None,\n",
       "            splitter='best'),\n",
       "       fit_params=None, iid='warn', n_jobs=-1,\n",
       "       param_grid={'max_depth': [2, 3, 4, 5, 6, 7, 8, 9, 10], 'min_samples_leaf': [450, 500, 550, 600, 650, 700]},\n",
       "       pre_dispatch='2*n_jobs', refit=True, return_train_score='warn',\n",
       "       scoring='roc_auc', verbose=0)"
      ]
     },
     "execution_count": 111,
     "metadata": {},
     "output_type": "execute_result"
    }
   ],
   "source": [
    "gcv3.fit(trainX,y)"
   ]
  },
  {
   "cell_type": "markdown",
   "metadata": {},
   "source": [
    "4.最適なパラメータはなんだったか確かめてみよう"
   ]
  },
  {
   "cell_type": "code",
   "execution_count": 112,
   "metadata": {
    "collapsed": false
   },
   "outputs": [
    {
     "data": {
      "text/plain": [
       "{'max_depth': 10, 'min_samples_leaf': 50}"
      ]
     },
     "execution_count": 112,
     "metadata": {},
     "output_type": "execute_result"
    }
   ],
   "source": [
    "gcv2.best_params_"
   ]
  },
  {
   "cell_type": "code",
   "execution_count": 113,
   "metadata": {
    "collapsed": false
   },
   "outputs": [
    {
     "data": {
      "text/plain": [
       "{'max_depth': 10, 'min_samples_leaf': 450}"
      ]
     },
     "execution_count": 113,
     "metadata": {},
     "output_type": "execute_result"
    }
   ],
   "source": [
    "gcv3.best_params_"
   ]
  },
  {
   "cell_type": "markdown",
   "metadata": {},
   "source": [
    "5.testの予測をし、予測結果のうち、１となる確率のみを変数pred2に代入しよう"
   ]
  },
  {
   "cell_type": "code",
   "execution_count": 114,
   "metadata": {
    "collapsed": false
   },
   "outputs": [],
   "source": [
    "pred2 = gcv2.predict_proba(testX)"
   ]
  },
  {
   "cell_type": "code",
   "execution_count": 115,
   "metadata": {
    "collapsed": false
   },
   "outputs": [],
   "source": [
    "pred2 = pred2[:,1]"
   ]
  },
  {
   "cell_type": "code",
   "execution_count": 116,
   "metadata": {
    "collapsed": true
   },
   "outputs": [],
   "source": [
    "pred3 = gcv3.predict_proba(testX)"
   ]
  },
  {
   "cell_type": "code",
   "execution_count": 117,
   "metadata": {
    "collapsed": true
   },
   "outputs": [],
   "source": [
    "pred3 = pred3[:,1]"
   ]
  },
  {
   "cell_type": "markdown",
   "metadata": {},
   "source": [
    "6.pred2をsample[1]に代入して\"submit4_bank.csv\"としてファイル出力し、DeepAnalyticsへ投稿しよう"
   ]
  },
  {
   "cell_type": "code",
   "execution_count": 118,
   "metadata": {
    "collapsed": true
   },
   "outputs": [],
   "source": [
    "sample[1] = pred2"
   ]
  },
  {
   "cell_type": "code",
   "execution_count": 119,
   "metadata": {
    "collapsed": false
   },
   "outputs": [],
   "source": [
    "sample.to_csv(\"/root/Case2/submit4_bank.csv\",header=None,index=None)"
   ]
  },
  {
   "cell_type": "code",
   "execution_count": 120,
   "metadata": {
    "collapsed": true
   },
   "outputs": [],
   "source": [
    "sample[1] = pred3 "
   ]
  },
  {
   "cell_type": "code",
   "execution_count": 121,
   "metadata": {
    "collapsed": true
   },
   "outputs": [],
   "source": [
    "sample.to_csv(\"/root/Case2/uni1_submit4_bank.csv\",header=None,index=None)"
   ]
  },
  {
   "cell_type": "code",
   "execution_count": null,
   "metadata": {
    "collapsed": true
   },
   "outputs": [],
   "source": []
  }
 ],
 "metadata": {
  "kernelspec": {
   "display_name": "Python 3",
   "language": "python",
   "name": "python3"
  },
  "language_info": {
   "codemirror_mode": {
    "name": "ipython",
    "version": 3
   },
   "file_extension": ".py",
   "mimetype": "text/x-python",
   "name": "python",
   "nbconvert_exporter": "python",
   "pygments_lexer": "ipython3",
   "version": "3.6.7"
  }
 },
 "nbformat": 4,
 "nbformat_minor": 2
}
